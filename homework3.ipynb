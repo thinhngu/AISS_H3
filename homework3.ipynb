{
 "cells": [
  {
   "cell_type": "markdown",
   "metadata": {},
   "source": [
    "# Homework 3 – Deployment"
   ]
  },
  {
   "cell_type": "markdown",
   "metadata": {},
   "source": [
    "## Tasks\n",
    "\n",
    "![Iris flower](./data/iris.png)\n",
    "\n",
    "1. Import Iris dataset from `./data/iris.csv`.\n",
    "* Create an endpoint `/train` which expects `n_estimators` and `max_depth` attributes of a Random Forest Classifier, trains a model using a Cross Validation, and returns the F1-Score, Precision, Recall and Accuracy.\n",
    "* Create an endpoint `/predict` which expects the four input features (sepal length, sepal width, petal length, petal width) and predicts as well as retuns the iris class using the model from above."
   ]
  },
  {
   "cell_type": "code",
   "execution_count": 2,
   "metadata": {},
   "outputs": [],
   "source": [
    "#1\n",
    "\n",
    "import pandas as pd\n",
    "\n",
    "\n",
    "df = pd.read_csv(\"./data/iris.csv\")\n",
    "\n",
    "from sklearn.ensemble import RandomForestClassifier\n",
    "    \n",
    "\n"
   ]
  },
  {
   "cell_type": "code",
   "execution_count": null,
   "metadata": {},
   "outputs": [
    {
     "name": "stdout",
     "output_type": "stream",
     "text": [
      " * Serving Flask app \"__main__\" (lazy loading)\n",
      " * Environment: production\n",
      "   WARNING: Do not use the development server in a production environment.\n",
      "   Use a production WSGI server instead.\n",
      " * Debug mode: on\n"
     ]
    },
    {
     "name": "stderr",
     "output_type": "stream",
     "text": [
      " * Running on http://0.0.0.0:5000/ (Press CTRL+C to quit)\n",
      "127.0.0.1 - - [14/Nov/2018 13:20:02] \"GET /train?max_depth=5&n_estimators=5 HTTP/1.1\" 200 -\n",
      "127.0.0.1 - - [14/Nov/2018 13:20:02] \"GET /favicon.ico HTTP/1.1\" 404 -\n"
     ]
    }
   ],
   "source": [
    "#2\n",
    "\n",
    "from flask import Flask, jsonify, request\n",
    "import pandas as pd\n",
    "\n",
    "\n",
    "app = Flask(__name__)\n",
    "\n",
    "@app.route('/train')\n",
    "def train():\n",
    "    max_depth_wanted = request.args.get('max_depth', type = int)\n",
    "    n_estimators_wanted = request.args.get('n_estimators', type = int)\n",
    "\n",
    "    \n",
    "    # crossval and recall\n",
    "    from sklearn.ensemble import RandomForestClassifier\n",
    "    from sklearn.metrics import f1_score\n",
    "    from sklearn.metrics import precision_score\n",
    "    from sklearn.metrics import accuracy_score\n",
    "    from sklearn.metrics import recall_score\n",
    "    from sklearn.model_selection import cross_val_predict\n",
    "\n",
    "    rfc = RandomForestClassifier(n_estimators = n_estimators_wanted, max_depth = max_depth_wanted)\n",
    "    y_pred = cross_val_predict(rfc, df.iloc[:,:-1], df.iloc[:,-1], cv=6)\n",
    "     \n",
    "    \n",
    "    y_target = df.iloc[:,-1]\n",
    "    \n",
    "    return jsonify ({'Accuracy':accuracy_score(y_target, y_pred),\n",
    "                    'F1 Score':f1_score(y_target,y_pred, average='macro'),\n",
    "                    'Precision':precision_score(y_target,y_pred, average='macro'),\n",
    "                    'Recall': recall_score(y_target,y_pred, average='macro')})\n",
    "\n",
    "app.run(debug=True, use_reloader=False, host='0.0.0.0')"
   ]
  },
  {
   "cell_type": "code",
   "execution_count": null,
   "metadata": {},
   "outputs": [
    {
     "name": "stdout",
     "output_type": "stream",
     "text": [
      " * Serving Flask app \"__main__\" (lazy loading)\n",
      " * Environment: production\n",
      "   WARNING: Do not use the development server in a production environment.\n",
      "   Use a production WSGI server instead.\n",
      " * Debug mode: on\n"
     ]
    },
    {
     "name": "stderr",
     "output_type": "stream",
     "text": [
      " * Running on http://0.0.0.0:5000/ (Press CTRL+C to quit)\n",
      "C:\\Users\\Thinh\\Anaconda3\\lib\\site-packages\\sklearn\\ensemble\\forest.py:248: FutureWarning: The default value of n_estimators will change from 10 in version 0.20 to 100 in 0.22.\n",
      "  \"10 in version 0.20 to 100 in 0.22.\", FutureWarning)\n",
      "127.0.0.1 - - [11/Nov/2018 15:15:24] \"GET /predict?sepal_length=0.2&sepal_width=0.2&petal_length=0.2&petal_width=0.2 HTTP/1.1\" 200 -\n",
      "C:\\Users\\Thinh\\Anaconda3\\lib\\site-packages\\sklearn\\ensemble\\forest.py:248: FutureWarning: The default value of n_estimators will change from 10 in version 0.20 to 100 in 0.22.\n",
      "  \"10 in version 0.20 to 100 in 0.22.\", FutureWarning)\n",
      "127.0.0.1 - - [11/Nov/2018 15:15:52] \"GET /predict?sepal_length=0.9&sepal_width=0.1&petal_length=0.4&petal_width=0.6 HTTP/1.1\" 200 -\n",
      "C:\\Users\\Thinh\\Anaconda3\\lib\\site-packages\\sklearn\\ensemble\\forest.py:248: FutureWarning: The default value of n_estimators will change from 10 in version 0.20 to 100 in 0.22.\n",
      "  \"10 in version 0.20 to 100 in 0.22.\", FutureWarning)\n",
      "127.0.0.1 - - [11/Nov/2018 15:16:01] \"GET /predict?sepal_length=0.9&sepal_width=0.1&petal_length=0.4&petal_width=1.6 HTTP/1.1\" 200 -\n"
     ]
    }
   ],
   "source": [
    "#3\n",
    "\n",
    "from flask import Flask, jsonify, request\n",
    "import pandas as pd\n",
    "from sklearn.model_selection import train_test_split\n",
    "\n",
    "X_train, X_test, y_train, y_test = train_test_split(df.iloc[:,:-1], df.iloc[:,-1], test_size=0.25, random_state=0)\n",
    "\n",
    "app = Flask(__name__)\n",
    "\n",
    "@app.route('/predict')\n",
    "def predict():\n",
    "    sepal_length = request.args.get('sepal_length', type = float)\n",
    "    sepal_width = request.args.get('sepal_width',type = float)\n",
    "    petal_length = request.args.get('petal_length' ,type = float)\n",
    "    petal_width = request.args.get('petal_width', type = float)\n",
    "    \n",
    "    \n",
    "    from sklearn.ensemble import RandomForestClassifier\n",
    "    \n",
    "    rfc = RandomForestClassifier()\n",
    "\n",
    "    rfc.fit(X_train,y_train)\n",
    "    \n",
    "    \n",
    "    x = [[sepal_length,sepal_width,petal_length,petal_width]]\n",
    "\n",
    "\n",
    "    df_pred = pd.DataFrame(x,columns=['SepalL','SepalW','PetalL','PetalW'])\n",
    "\n",
    "\n",
    "    y_pred = rfc.predict(df_pred)\n",
    "    \n",
    "    predstr = ''.join(y_pred)\n",
    "    \n",
    "    y_testarray = y_test.values\n",
    "    return jsonify ({'Sepal_Length': sepal_length,\n",
    "                    'Sepal_Width': sepal_width,\n",
    "                    'Petal_Length': petal_length,\n",
    "                    'Petal_Width': petal_width,\n",
    "                    'Prediction': predstr})\n",
    "\n",
    "\n",
    "\n",
    "app.run(debug=True, use_reloader=False, host='0.0.0.0')\n",
    "    \n",
    "    \n"
   ]
  }
 ],
 "metadata": {
  "kernelspec": {
   "display_name": "Python 3",
   "language": "python",
   "name": "python3"
  },
  "language_info": {
   "codemirror_mode": {
    "name": "ipython",
    "version": 3
   },
   "file_extension": ".py",
   "mimetype": "text/x-python",
   "name": "python",
   "nbconvert_exporter": "python",
   "pygments_lexer": "ipython3",
   "version": "3.7.0"
  }
 },
 "nbformat": 4,
 "nbformat_minor": 2
}
