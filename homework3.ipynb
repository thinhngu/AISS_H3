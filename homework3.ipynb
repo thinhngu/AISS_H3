{
 "cells": [
  {
   "cell_type": "markdown",
   "metadata": {},
   "source": [
    "# Homework 3 – Deployment"
   ]
  },
  {
   "attachments": {},
   "cell_type": "markdown",
   "metadata": {},
   "source": [
    "## Tasks\n",
    "\n",
    "![Iris flower](./data/iris.png)\n",
    "\n",
    "1. Import Iris dataset from `./data/iris.csv`.\n",
    "* Create an endpoint `/train` which expects `n_estimators` and `max_depth` attributes of a Random Forest Classifier, trains a model using a Cross Validation, and returns the F1-Score, Precision, Recall and Accuracy.\n",
    "* Create an endpoint `/predict` which expects the four input features (sepal length, sepal width, petal length, petal width) and predicts as well as retuns the iris class using the model from above."
   ]
  },
  {
   "cell_type": "code",
   "execution_count": null,
   "metadata": {},
   "outputs": [],
   "source": [
    "# Code up your solution here..."
   ]
  }
 ],
 "metadata": {
  "kernelspec": {
   "display_name": "Python 3",
   "language": "python",
   "name": "python3"
  },
  "language_info": {
   "codemirror_mode": {
    "name": "ipython",
    "version": 3
   },
   "file_extension": ".py",
   "mimetype": "text/x-python",
   "name": "python",
   "nbconvert_exporter": "python",
   "pygments_lexer": "ipython3",
   "version": "3.7.0"
  }
 },
 "nbformat": 4,
 "nbformat_minor": 2
}
